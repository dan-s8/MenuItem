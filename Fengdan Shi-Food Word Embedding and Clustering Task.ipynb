{
 "cells": [
  {
   "cell_type": "markdown",
   "id": "fbf302ef",
   "metadata": {},
   "source": [
    "# Importing Modules"
   ]
  },
  {
   "cell_type": "code",
   "execution_count": 311,
   "id": "ea3a7832",
   "metadata": {},
   "outputs": [],
   "source": [
    "import re\n",
    "import pandas as pd\n",
    "import numpy as np\n",
    "from numpy import linalg as LA\n",
    "import csv\n",
    "from nltk.tokenize import word_tokenize\n",
    "import warnings\n",
    "warnings.filterwarnings(action = 'ignore') \n",
    "import gensim\n",
    "from gensim.models import Word2Vec\n",
    "\n",
    "from sklearn.cluster import KMeans\n",
    "from sklearn.decomposition import PCA\n",
    "from sklearn.metrics import silhouette_samples, silhouette_score\n",
    "import matplotlib.pyplot as plt\n",
    "%matplotlib inline"
   ]
  },
  {
   "cell_type": "markdown",
   "id": "8bc9bbc5",
   "metadata": {},
   "source": [
    "# Importing and Processing Data"
   ]
  },
  {
   "cell_type": "code",
   "execution_count": 312,
   "id": "fb78bd40",
   "metadata": {},
   "outputs": [],
   "source": [
    "data=[]\n",
    "#read the MenuItem csv file\n",
    "with open('MenuItem.csv') as csvfile:\n",
    "    csv_reader=csv.reader(csvfile, delimiter=',')\n",
    "    next(csv_reader) #skip the header of the file\n",
    "    for row in csv_reader:\n",
    "        menu_lower=row[1].lower() #make them all lowercase\n",
    "        menu_long=re.sub(r'[^a-zA-Z]','',menu_lower) #keep only letters\n",
    "        # tokenize the sentence into words\n",
    "        temp=[]\n",
    "        for i in word_tokenize(row[1]):\n",
    "            menu_lower=i.lower() #make them all lowercase\n",
    "            menu_item=re.sub(r'[^a-zA-Z]','',menu_lower) #keep only letters\n",
    "            if menu_item!='':\n",
    "                temp.append(menu_item)\n",
    "        data.append(temp)"
   ]
  },
  {
   "cell_type": "markdown",
   "id": "43e9f133",
   "metadata": {},
   "source": [
    "# Training an Embedding Model"
   ]
  },
  {
   "cell_type": "code",
   "execution_count": 313,
   "id": "8c3da152",
   "metadata": {},
   "outputs": [],
   "source": [
    "# Create CBOW model\n",
    "model1 = gensim.models.Word2Vec(data, min_count = 1,vector_size = 100, window = 5)"
   ]
  },
  {
   "cell_type": "code",
   "execution_count": 314,
   "id": "b5e7a607",
   "metadata": {},
   "outputs": [],
   "source": [
    "#create a vector for each menu item by averaging its word vectors\n",
    "def vector_avg(data,model):\n",
    "    avg_v = []\n",
    "    for items in data:\n",
    "        zero_v = np.zeros(model.vector_size)\n",
    "        vectors = []\n",
    "        for item in items:\n",
    "            if item in model.wv:\n",
    "                try:\n",
    "                    vectors.append(model.wv[item])\n",
    "                except KeyError:\n",
    "                    continue\n",
    "        if vectors:\n",
    "            vectors = np.asarray(vectors)\n",
    "            avg_vec = vectors.mean(axis=0)\n",
    "            avg_v.append(avg_vec)\n",
    "        else:\n",
    "            avg_v.append(zero_vector)\n",
    "    return avg_v\n",
    "    \n",
    "vectorized_items = np.array(vector_avg(data, model=model1))  "
   ]
  },
  {
   "cell_type": "markdown",
   "id": "695c5de4",
   "metadata": {},
   "source": [
    "# Clustering & Evaluating (K-Means)"
   ]
  },
  {
   "cell_type": "code",
   "execution_count": 315,
   "id": "2c034129",
   "metadata": {},
   "outputs": [
    {
     "name": "stdout",
     "output_type": "stream",
     "text": [
      "[0.56767315, 0.5298555, 0.52778316, 0.5197722, 0.52922994, 0.52194804, 0.5049698, 0.51166534, 0.5076928, 0.5017737, 0.5036742, 0.495894, 0.4905995, 0.48970056, 0.48450214, 0.4742138, 0.47361523, 0.47038716]\n",
      "[2, 3, 4, 5, 6, 7, 8, 9, 10, 11, 12, 13, 14, 15, 16, 17, 18, 19]\n"
     ]
    }
   ],
   "source": [
    "#use PCA for dimensionality reduction \n",
    "pca=PCA(2)\n",
    "df=pca.fit_transform(vectorized_items)\n",
    "\n",
    "def k_means_adjust(cluster_n,df):\n",
    "    #initialize the class object\n",
    "    k_means = KMeans(n_clusters=cluster_n, init='random',n_init=10, max_iter=300, tol=1e-04, random_state=0)\n",
    "    #predict the labels of clusters\n",
    "    label=k_means.fit_predict(df)\n",
    "    #k_means_cluster_centers = k_means.cluster_centers_\n",
    "    score = silhouette_score(df, label, metric='euclidean')\n",
    "    return k_means,label,score\n",
    "\n",
    "#using the Silhouette Score as  quantitative metrics to find a better num for num of cluster\n",
    "score_init=[]\n",
    "cluster_n=[]\n",
    "for i in range(2,20):\n",
    "    cluster_n.append(i)\n",
    "    k_means,label,score=k_means_adjust(i,df)\n",
    "    score_init.append(score)\n",
    "        \n",
    "print(score_init)\n",
    "print(cluster_n)"
   ]
  },
  {
   "cell_type": "code",
   "execution_count": 316,
   "id": "e21a7f74",
   "metadata": {},
   "outputs": [
    {
     "name": "stdout",
     "output_type": "stream",
     "text": [
      "The num of cluster chosen by comparing Silhouette Score is:  3\n",
      "Silhouetter Score: 0.530\n"
     ]
    },
    {
     "data": {
      "text/html": [
       "<div>\n",
       "<style scoped>\n",
       "    .dataframe tbody tr th:only-of-type {\n",
       "        vertical-align: middle;\n",
       "    }\n",
       "\n",
       "    .dataframe tbody tr th {\n",
       "        vertical-align: top;\n",
       "    }\n",
       "\n",
       "    .dataframe thead th {\n",
       "        text-align: right;\n",
       "    }\n",
       "</style>\n",
       "<table border=\"1\" class=\"dataframe\">\n",
       "  <thead>\n",
       "    <tr style=\"text-align: right;\">\n",
       "      <th></th>\n",
       "      <th>x</th>\n",
       "      <th>y</th>\n",
       "      <th>Label</th>\n",
       "      <th>Restaurant Name</th>\n",
       "      <th>Food Item</th>\n",
       "    </tr>\n",
       "  </thead>\n",
       "  <tbody>\n",
       "    <tr>\n",
       "      <th>0</th>\n",
       "      <td>-0.008276</td>\n",
       "      <td>0.001821</td>\n",
       "      <td>0</td>\n",
       "      <td>Coffee Time</td>\n",
       "      <td>Garden Vegetable Sandwich</td>\n",
       "    </tr>\n",
       "    <tr>\n",
       "      <th>1</th>\n",
       "      <td>-0.105049</td>\n",
       "      <td>0.000549</td>\n",
       "      <td>0</td>\n",
       "      <td>HoSan</td>\n",
       "      <td>Roasted Seaweed Snack</td>\n",
       "    </tr>\n",
       "    <tr>\n",
       "      <th>2</th>\n",
       "      <td>-0.496825</td>\n",
       "      <td>-0.009990</td>\n",
       "      <td>2</td>\n",
       "      <td>Weight Watchers</td>\n",
       "      <td>Muffins</td>\n",
       "    </tr>\n",
       "    <tr>\n",
       "      <th>3</th>\n",
       "      <td>-0.211174</td>\n",
       "      <td>-0.000917</td>\n",
       "      <td>2</td>\n",
       "      <td>Natural Sea</td>\n",
       "      <td>Albacore Tuna, Solid White</td>\n",
       "    </tr>\n",
       "    <tr>\n",
       "      <th>4</th>\n",
       "      <td>0.180231</td>\n",
       "      <td>0.005192</td>\n",
       "      <td>1</td>\n",
       "      <td>World of Beer</td>\n",
       "      <td>Caesar Salad with Grilled Flat Iron Steak</td>\n",
       "    </tr>\n",
       "    <tr>\n",
       "      <th>5</th>\n",
       "      <td>0.212904</td>\n",
       "      <td>-0.004448</td>\n",
       "      <td>1</td>\n",
       "      <td>Chick-fil-A</td>\n",
       "      <td>Honey Mustard Sauce, 8 oz (Catering)</td>\n",
       "    </tr>\n",
       "    <tr>\n",
       "      <th>6</th>\n",
       "      <td>-0.200337</td>\n",
       "      <td>0.000710</td>\n",
       "      <td>2</td>\n",
       "      <td>Tai Pei</td>\n",
       "      <td>Pork Potstickers</td>\n",
       "    </tr>\n",
       "    <tr>\n",
       "      <th>7</th>\n",
       "      <td>-0.222731</td>\n",
       "      <td>0.005123</td>\n",
       "      <td>2</td>\n",
       "      <td>Port of Subs</td>\n",
       "      <td>Top Deck Meat &amp; Cheese Champion - 20-25 Guests *</td>\n",
       "    </tr>\n",
       "    <tr>\n",
       "      <th>8</th>\n",
       "      <td>-0.260242</td>\n",
       "      <td>-0.000729</td>\n",
       "      <td>2</td>\n",
       "      <td>YoCream</td>\n",
       "      <td>Plain</td>\n",
       "    </tr>\n",
       "    <tr>\n",
       "      <th>9</th>\n",
       "      <td>0.035699</td>\n",
       "      <td>-0.011869</td>\n",
       "      <td>0</td>\n",
       "      <td>Blimpie</td>\n",
       "      <td>Sprite Zero, 28 oz</td>\n",
       "    </tr>\n",
       "  </tbody>\n",
       "</table>\n",
       "</div>"
      ],
      "text/plain": [
       "          x         y  Label  Restaurant Name  \\\n",
       "0 -0.008276  0.001821      0      Coffee Time   \n",
       "1 -0.105049  0.000549      0            HoSan   \n",
       "2 -0.496825 -0.009990      2  Weight Watchers   \n",
       "3 -0.211174 -0.000917      2      Natural Sea   \n",
       "4  0.180231  0.005192      1    World of Beer   \n",
       "5  0.212904 -0.004448      1      Chick-fil-A   \n",
       "6 -0.200337  0.000710      2          Tai Pei   \n",
       "7 -0.222731  0.005123      2     Port of Subs   \n",
       "8 -0.260242 -0.000729      2          YoCream   \n",
       "9  0.035699 -0.011869      0          Blimpie   \n",
       "\n",
       "                                          Food Item  \n",
       "0                         Garden Vegetable Sandwich  \n",
       "1                             Roasted Seaweed Snack  \n",
       "2                                           Muffins  \n",
       "3                        Albacore Tuna, Solid White  \n",
       "4         Caesar Salad with Grilled Flat Iron Steak  \n",
       "5              Honey Mustard Sauce, 8 oz (Catering)  \n",
       "6                                  Pork Potstickers  \n",
       "7  Top Deck Meat & Cheese Champion - 20-25 Guests *  \n",
       "8                                             Plain  \n",
       "9                                Sprite Zero, 28 oz  "
      ]
     },
     "execution_count": 316,
     "metadata": {},
     "output_type": "execute_result"
    }
   ],
   "source": [
    "#cluster_n=2 has the highest Silhouetter Score and 3 has the second to highest\n",
    "#as dividing food items into 2 did not make lots of sense after trying, use cluster num = 3\n",
    "k_means,label,score=k_means_adjust(3,df)\n",
    "print('The num of cluster chosen by comparing Silhouette Score is: ',3)\n",
    "print('Silhouetter Score: %.3f' % score)\n",
    "\n",
    "#create a dataframe that includes the 2D vector, label, restaurant name, and its food item\n",
    "df_final=pd.DataFrame(df, columns = ['x','y'])\n",
    "df_final['Label']=label\n",
    "items=pd.read_csv('MenuItem.csv')\n",
    "df_final['Restaurant Name']=items['Restaurant Name']\n",
    "df_final['Food Item']=items['Original food Item']\n",
    "df_final.to_csv('Clustering.csv') #save dataframe as csv file\n",
    "df_final.head(10)"
   ]
  },
  {
   "cell_type": "code",
   "execution_count": 317,
   "id": "30ce887f",
   "metadata": {},
   "outputs": [
    {
     "data": {
      "image/png": "[encoded data removed]",
      "text/plain": [
       "<Figure size 432x288 with 1 Axes>"
      ]
     },
     "metadata": {
      "needs_background": "light"
     },
     "output_type": "display_data"
    }
   ],
   "source": [
    "#visualize the clusters\n",
    "colors=[]\n",
    "for i in df_final['Label']:\n",
    "    if i==0:\n",
    "        colors.append('pink')\n",
    "    if i==1:\n",
    "        colors.append('blue')\n",
    "    if i==2:\n",
    "        colors.append('green')\n",
    "plt.scatter(df_final['x'],df_final['y'],marker='o',c = colors)\n",
    "plt.title('Menu Item Clustering')\n",
    "plt.show()"
   ]
  },
  {
   "cell_type": "markdown",
   "id": "2fe77b9b",
   "metadata": {},
   "source": [
    "# Analysis\n",
    "Cluster 0: Includes many dressing, soup, chicken, small bites\n",
    "\n",
    "Cluster 1: Contains many sandwiches, tacos, drinks, bread, pizza\n",
    "\n",
    "Cluster 2: Contains many sweets and snacks"
   ]
  },
  {
   "cell_type": "code",
   "execution_count": null,
   "id": "4b4b42a0",
   "metadata": {},
   "outputs": [],
   "source": []
  }
 ],
 "metadata": {
  "kernelspec": {
   "display_name": "Python 3",
   "language": "python",
   "name": "python3"
  },
  "language_info": {
   "codemirror_mode": {
    "name": "ipython",
    "version": 3
   },
   "file_extension": ".py",
   "mimetype": "text/x-python",
   "name": "python",
   "nbconvert_exporter": "python",
   "pygments_lexer": "ipython3",
   "version": "3.8.8"
  }
 },
 "nbformat": 4,
 "nbformat_minor": 5
}
